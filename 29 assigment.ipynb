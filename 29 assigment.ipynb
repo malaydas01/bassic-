{
 "cells": [
  {
   "cell_type": "code",
   "execution_count": null,
   "id": "662a2174-390a-4ed7-9b45-b400758327c0",
   "metadata": {},
   "outputs": [],
   "source": [
    "Q1. who developed python programing language?\n",
    "\n",
    "ANS - Python is a widely used general-purpose, high-level programming language. \n",
    "     It was initially designed by Guido van Rossum in 1991 and developed by Python Software Foundation.\n",
    "    It was mainly developed for emphasis on code readability, and its syntax allows programmers to express concepts in fewer lines of code"
   ]
  },
  {
   "cell_type": "code",
   "execution_count": null,
   "id": "4fe3c6dc-4317-4e9e-9e01-ee0bcf6986c2",
   "metadata": {},
   "outputs": [],
   "source": [
    "Q2. which type of programming does python support?\n",
    "ANS -Python supports both object-oriented and procedural programming, so it is suitable for a wide range of applications.\n",
    "    \n",
    "\n"
   ]
  },
  {
   "cell_type": "code",
   "execution_count": null,
   "id": "515f67c9-9732-40a9-9602-10dea8164c15",
   "metadata": {},
   "outputs": [],
   "source": [
    "Q3. Is python case sensitive when dealing with identifiers?\n",
    "ANS- The Python language is case-sensitive. Identifiers, keywords, and names of classes must be written in lowercase letters.\n",
    "    However, Python allows developers to write in uppercase letters for constants \n",
    "    (i.e. variables that have a value assigned to them during program execution), and for built-in functions, and for class and module names, etc.\n",
    "\n",
    "The identifier is case sensitive, so “foo”, “FOO” and “foo” are different variables. This is a very basic Python thing."
   ]
  },
  {
   "cell_type": "code",
   "execution_count": null,
   "id": "916ccb60-0003-498d-adac-d52813d60f1f",
   "metadata": {},
   "outputs": [],
   "source": [
    "Q4. what is the correct extension of the python file?\n",
    "\n",
    "ANS - 1.py: This is normally the input source code that you've written.\n",
    "     2 .pyc: This is the compiled bytecode. If you import a module, python will build a *.pyc file that contains the bytecode to make importing it again later easier (and faster).\n",
    "    3 .pyo: This was a file format used before Python 3.5 for *.pyc files that were created with optimizations (-O) flag. (see the note below)\n",
    "     4 .pyd: This is basically a windows dll file."
   ]
  },
  {
   "cell_type": "code",
   "execution_count": null,
   "id": "7a0c558b-fe89-484c-9d03-0535c83d2c83",
   "metadata": {},
   "outputs": [],
   "source": [
    "Q5. Is python code compiled or interpreted ?\n",
    "\n",
    "ANS- In various books of python programming, it is mentioned that python language is interpreted.\n",
    "But that is half correct the python program is first compiled and then interpreted.\n",
    "The compilation part is hidden from the programmer thus, many programmers believe that it is an interpreted language.\n"
   ]
  },
  {
   "cell_type": "code",
   "execution_count": null,
   "id": "cee44381-6f24-42be-b36c-4c481aadef10",
   "metadata": {},
   "outputs": [],
   "source": [
    "Q6. Name a few blocks of code used to define in python language?\n",
    "\n",
    "ANS - A code block is a group of statements that will be run as a unit.\n",
    "\n",
    "For example:\n",
    "\n",
    "if (condition):\n",
    "    # Statement 1\n",
    "    # Statement 2\n",
    "    # Statement 3\n",
    "else:\n",
    "    # Statement 4\n",
    "    # Statement 5\n",
    "    # Statement 6"
   ]
  },
  {
   "cell_type": "code",
   "execution_count": null,
   "id": "38a41f73-c5b0-4038-a4fd-cd019ac1e5ef",
   "metadata": {},
   "outputs": [],
   "source": [
    "Q7. State a character used to give single - line comments in python?\n",
    "\n",
    "ANs - we used hash (#) to single line comments\n",
    "    ex-\n",
    "        #this is is not used but its gives about to knowledge"
   ]
  },
  {
   "cell_type": "code",
   "execution_count": null,
   "id": "76d4756b-8cb7-4679-9fd3-412f2768588e",
   "metadata": {},
   "outputs": [],
   "source": [
    "Q8. Menthion functions which can help us to find the version of python that we are currently working on ?\n",
    "\n",
    "Ans - 1st  open window key and then sarch window powershell and open\n",
    "      2nd  type python -- version they can show you the python version currently working on it"
   ]
  },
  {
   "cell_type": "code",
   "execution_count": null,
   "id": "b6077347-41e1-4552-92b7-4dbb2fa78a3a",
   "metadata": {},
   "outputs": [],
   "source": [
    "Q9. python supports the creation of anonymous functions at , runtime , using a construct called\n",
    "\n",
    "Ans -- Lambda functions"
   ]
  },
  {
   "cell_type": "code",
   "execution_count": null,
   "id": "9e9b0d36-77a8-4e48-9bcb-7461dfdcf51d",
   "metadata": {},
   "outputs": [],
   "source": [
    "Q10. what does pip stand for python?\n",
    "\n",
    "Ans --  pip is the package manager for python . you canuse pip to install a module on your system "
   ]
  },
  {
   "cell_type": "code",
   "execution_count": null,
   "id": "02a6e93d-69aa-4af8-a235-f23b20ba1252",
   "metadata": {},
   "outputs": [],
   "source": [
    "Q11. Menthion a few built- in  functions in python ?\n",
    "\n",
    "Ans -- input(), int(), str(), bool() etc are "
   ]
  },
  {
   "cell_type": "code",
   "execution_count": null,
   "id": "4b42a14f-872b-48b2-a8fe-b486fbf0679a",
   "metadata": {},
   "outputs": [],
   "source": [
    "Q12. what is the maximum possible length of  an identifier in python ?\n",
    "ANS --- n Python, the highest possible length of an identifier is 79 characters."
   ]
  },
  {
   "cell_type": "code",
   "execution_count": null,
   "id": "202b3779-f433-4c4e-8a35-989b779604d2",
   "metadata": {},
   "outputs": [],
   "source": [
    "Q13. what are the benefits of using python ?\n",
    "ANS -- 1. Easy to read, learn and code.Python is a high-level language and its syntax is very simple.\n",
    "        It does not need any semicolons or braces and looks ..\n",
    "        2. Dynamic Typing. \n",
    "        3. Free, Open Source. \n",
    "        4. Portable.\n",
    "        5. Extensive Third-Party Libraries.\n"
   ]
  },
  {
   "cell_type": "code",
   "execution_count": null,
   "id": "573b2592-0178-4461-8f7f-56904acafc09",
   "metadata": {},
   "outputs": [],
   "source": [
    "Q14. how is memory managed in python ?\n",
    "ANS --- According to the Python memory management documentation, Python has a private heap that stores our program’s objects \n",
    "        and data structures. Python memory manager takes care of the bulk of the memory management work and\n",
    "        allows us to concentrate on our code."
   ]
  },
  {
   "cell_type": "code",
   "execution_count": null,
   "id": "7ccb3e4d-409a-4171-ac43-535c1210906e",
   "metadata": {},
   "outputs": [],
   "source": [
    "Q15. how to install python on windows and set path variables ? \n",
    "\n",
    "ANS--- "
   ]
  },
  {
   "cell_type": "code",
   "execution_count": null,
   "id": "fb75ce46-fe38-40b4-aef3-924fdb7d8cc6",
   "metadata": {},
   "outputs": [],
   "source": [
    "Q16. Is indentation required in python ?\n",
    "ANS ---"
   ]
  }
 ],
 "metadata": {
  "kernelspec": {
   "display_name": "Python 3 (ipykernel)",
   "language": "python",
   "name": "python3"
  },
  "language_info": {
   "codemirror_mode": {
    "name": "ipython",
    "version": 3
   },
   "file_extension": ".py",
   "mimetype": "text/x-python",
   "name": "python",
   "nbconvert_exporter": "python",
   "pygments_lexer": "ipython3",
   "version": "3.10.8"
  }
 },
 "nbformat": 4,
 "nbformat_minor": 5
}
